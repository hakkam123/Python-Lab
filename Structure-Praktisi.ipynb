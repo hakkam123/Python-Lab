{
 "cells": [
  {
   "cell_type": "code",
   "execution_count": null,
   "metadata": {},
   "outputs": [],
   "source": [
    "# Initialize a sample list\n",
    "my_list = [1, 2, 3, 4, 3, 5]\n",
    "\n",
    "my_list.append(6)\n",
    "print(my_list)  \n",
    "\n",
    "my_list.extend([7, 8, 9])\n",
    "print(my_list) \n",
    "\n",
    "my_list.insert(2, 10)\n",
    "print(my_list)  \n",
    "\n",
    "my_list.remove(3)\n",
    "print(my_list) \n",
    "\n",
    "\n",
    "popped_element = my_list.pop(2)\n",
    "print(f\"Popped element: {popped_element}\") \n"
   ]
  },
  {
   "cell_type": "code",
   "execution_count": null,
   "metadata": {},
   "outputs": [],
   "source": [
    "# clear() - Removes all elements from the list\n",
    "my_list.clear()\n",
    "print(my_list) \n",
    "\n",
    "\n",
    "my_list = [1, 2, 3, 4, 3, 5]\n",
    "index = my_list.index(3)\n",
    "print(f\"Index of 3: {index}\") \n",
    "\n",
    "\n",
    "count = my_list.count(3)\n",
    "print(f\"Count of 3: {count}\")  \n",
    "\n",
    "\n",
    "my_list.sort()\n",
    "print(my_list)  \n",
    "\n",
    "\n",
    "my_list.reverse()\n",
    "print(my_list)\n",
    "\n",
    "\n",
    "copy_of_list = my_list.copy()\n",
    "print(copy_of_list)  \n",
    "\n",
    "\n",
    "length = len(my_list)\n",
    "print(f\"Length of the list: {length}\")  \n"
   ]
  },
  {
   "cell_type": "code",
   "execution_count": null,
   "metadata": {},
   "outputs": [],
   "source": [
    "list1=[] \n",
    "list2=[1,2.4,'abc',(1,2),[6,78,9]] \n",
    "print(\"The type of\",list1,\"is:\",type(list1))\n",
    "print(\"The type of\",list2,\"is:\",type(list2))\n"
   ]
  },
  {
   "cell_type": "code",
   "execution_count": null,
   "metadata": {},
   "outputs": [],
   "source": [
    "list_1=[1,3,5.6,'a',\"PythonGeeks\",0.4]\n",
    "print(list_1[3]) \n",
    "print(list_1) \n",
    "print(list_1[-2]) \n"
   ]
  },
  {
   "cell_type": "code",
   "execution_count": null,
   "metadata": {},
   "outputs": [],
   "source": [
    "list_1=[1,3,5.6,'a',\"PythonGeeks\",0.4]\n",
    "print(\"list_1[2:5] =\",list_1[2:5]) \n",
    "print(\"list_1[:] =\",list_1[:]) \n",
    "print(\"list_1[-5:-2] =\",list_1[-5:-2]) \n",
    "print(\"list_1[3:] =\",list_1[3:]) \n",
    "print(\"list_1[-3:] =\",list_1[-3:])\n",
    "print(\"list_1[:2] =\",list_1[:2]) \n",
    "print(\"list_1[:-2] =\",list_1[:-2])\n"
   ]
  },
  {
   "cell_type": "code",
   "execution_count": null,
   "metadata": {},
   "outputs": [],
   "source": [
    "my_list = [1, 2, 3, 4, 5]\n",
    "\n",
    "my_list[2] = 10\n",
    "print(\"After modifying using indexing:\", my_list) \n",
    "\n",
    "my_list[1:4] = [20, 30, 40]\n",
    "print(\"After modifying using slicing:\", my_list) \n",
    "\n",
    "\n",
    "del my_list[2]\n",
    "print(\"After deleting using indexing:\", my_list) \n",
    "\n",
    "\n",
    "my_list[1:4] = []\n",
    "print(\"After deleting using slicing:\", my_list)  \n",
    "\n",
    "del my_list\n"
   ]
  },
  {
   "cell_type": "code",
   "execution_count": null,
   "metadata": {},
   "outputs": [],
   "source": [
    "my_list = [1, 2, 3, 4, 5]\n",
    "\n",
    "for item in my_list:\n",
    "    print(item)\n",
    "\n",
    "for index, item in enumerate(my_list):\n",
    "    print(f\"Index {index}: {item}\")\n",
    "\n",
    "for item in reversed(my_list):\n",
    "    print(item)\n"
   ]
  },
  {
   "cell_type": "code",
   "execution_count": null,
   "metadata": {},
   "outputs": [],
   "source": [
    "list1=[1,-2,3,-4,5]\n",
    "list2=[x**2 for x in list1]\n",
    "print(list2)\n",
    "\n",
    "fruits = [\"apple\", \"banana\", \"cherry\", \"kiwi\", \"mango\"]\n",
    "newlist = [x if x != \"banana\" else \"orange\" for x in fruits]\n",
    "print(newlist)\n"
   ]
  },
  {
   "cell_type": "code",
   "execution_count": null,
   "metadata": {},
   "outputs": [],
   "source": [
    "emp_info=['Python',5,'Developer']\n",
    "\n",
    "skill,exp,role=emp_info\n",
    "print (skill)\n",
    "print (exp)\n",
    "print (role)"
   ]
  },
  {
   "cell_type": "code",
   "execution_count": null,
   "metadata": {},
   "outputs": [],
   "source": [
    "browser_history = []\n",
    "\n",
    "browser_history.append(\"Homepage\")\n",
    "browser_history.append(\"About Us\")\n",
    "browser_history.append(\"Products\")\n",
    "browser_history.append(\"Contact Us\")\n",
    "\n",
    "if len(browser_history) > 0:\n",
    "    current_page = browser_history.pop()\n",
    "    print(\"User clicked the back button. Navigating to:\", current_page)\n",
    "\n",
    "browser_history.append(\"FAQs\")\n",
    "browser_history.append(\"Blog\")\n",
    "\n",
    "if len(browser_history) > 0:\n",
    "    current_page = browser_history.pop()\n",
    "    print(\"User clicked the back button. Navigating to:\", current_page)\n",
    "\n",
    "\n",
    "\n"
   ]
  },
  {
   "cell_type": "code",
   "execution_count": null,
   "metadata": {},
   "outputs": [],
   "source": [
    "queue = ['Person 1','Person 2'] \n",
    "  \n",
    "queue.append('Person 3') \n",
    "  \n",
    "print(\"\\nQueue before:\") \n",
    "print(queue) \n",
    "  \n",
    "print(\"\\nElements dequeued from queue : \", queue.pop(0)) \n",
    "  \n",
    "print(\"\\nQueue after:\") \n",
    "print(queue)\n"
   ]
  },
  {
   "cell_type": "code",
   "execution_count": null,
   "metadata": {},
   "outputs": [],
   "source": [
    "tup=(9,6,'g','Python',7.4)\n",
    "print(len(tup))\n",
    "print(tup.index('g'))\n",
    "\n",
    "print(tup.count('a'))\n"
   ]
  },
  {
   "cell_type": "code",
   "execution_count": null,
   "metadata": {},
   "outputs": [],
   "source": [
    "t1 = (1, 2, 3, 4)\n",
    "\n",
    "t2 = tuple([1, 2, 3, 4, 5])\n",
    "\n",
    "t3 = tuple([1, 2, 3, 4, 5, 6])\n",
    "\n",
    "print(f\"Tuple t1: {t1}\")\n",
    "print(f\"Tuple t2: {t2}\")\n",
    "print(f\"Tuple t3: {t3}\")\n"
   ]
  },
  {
   "cell_type": "code",
   "execution_count": null,
   "metadata": {},
   "outputs": [],
   "source": [
    "tup1 = ('physics', 'chemistry', 1997, 2000);\n",
    "tup2 = (1, 2, 3, 4, 5, 6, 7 );\n",
    "print (\"tup1[0]: \", tup1[0])\n",
    "print (\"tup2[1:5]: \", tup2[1:5])\n"
   ]
  },
  {
   "cell_type": "code",
   "execution_count": null,
   "metadata": {},
   "outputs": [],
   "source": [
    "tup1 = (12, 34.56)\n",
    "tup2 = ('abc', 'xyz')\n",
    "\n",
    "tup3 = tup1 + tup2\n",
    "print (tup3)\n"
   ]
  },
  {
   "cell_type": "code",
   "execution_count": null,
   "metadata": {},
   "outputs": [],
   "source": [
    "tup = ('physics', 'chemistry', 1997, 2000)\n",
    "print (tup)\n",
    "del tup\n",
    "print (\"After deleting tup : \")\n",
    "print (tup);\t"
   ]
  },
  {
   "cell_type": "code",
   "execution_count": null,
   "metadata": {},
   "outputs": [],
   "source": [
    "tup=(1,2,3,4,5)\n",
    "\n",
    "list1=list(tup)\n",
    "list1[4]=6\n",
    "\n",
    "tup=tuple(list1)\n",
    "tup\n"
   ]
  },
  {
   "cell_type": "code",
   "execution_count": null,
   "metadata": {},
   "outputs": [],
   "source": [
    "tup=1,2,3 #packing\n",
    "print(\"The type of \",tup,\"is:\",type(tup))\n",
    "\n",
    "a,b,c=tup #unpacking\n",
    "print(a)\n",
    "print(b)\n",
    "print(c)\n"
   ]
  },
  {
   "cell_type": "code",
   "execution_count": null,
   "metadata": {},
   "outputs": [],
   "source": [
    "dict1={1:'a',2:'e',3:'i',4:'o',5:'u'}\n",
    "print(dict1.get(4))\n",
    "\n",
    "print(dict1.keys())\n",
    "\n",
    "print(dict1.values())\n",
    "\n",
    "print(dict1.items())\n",
    "\n",
    "var1=dict1.pop(2)\n",
    "print(\"The value of var1 is:\",var1)\n",
    "\n",
    "var2=dict1.popitem()\n",
    "print(\"The value of var2 is:\",var2)\n",
    "\n",
    "dict1.clear()\n",
    "dict1\n"
   ]
  },
  {
   "cell_type": "code",
   "execution_count": null,
   "metadata": {},
   "outputs": [],
   "source": [
    "dict = {'Name': 'Zara', 'Age': 7, 'Class': 'First'}\n",
    "print (\"dict['Name']: \", dict['Name'])\n",
    "print (\"dict['Age']: \", dict['Age'])\n"
   ]
  },
  {
   "cell_type": "code",
   "execution_count": null,
   "metadata": {},
   "outputs": [],
   "source": [
    "dict = {'Name': 'Zara', 'Age': 7, 'Class': 'First'}\n",
    "dict['Age'] = 8; \n",
    "dict['School'] = \"DPS School\"; \n",
    "\n",
    "print (\"dict['Age']: \", dict['Age'])\n",
    "print (\"dict['School']: \", dict['School'])\n"
   ]
  },
  {
   "cell_type": "code",
   "execution_count": null,
   "metadata": {},
   "outputs": [],
   "source": [
    "dict = {'Name': 'Zara', 'Age': 7, 'Class': 'First'}\n",
    "del dict['Name']; \n",
    "dict.clear();     \n",
    "del dict ;        \t\n",
    "\n",
    "print (\"dict['Age']: \", dict['Age'])\n",
    "print (\"dict['School']: \", dict['School'])\n"
   ]
  },
  {
   "cell_type": "code",
   "execution_count": null,
   "metadata": {},
   "outputs": [],
   "source": [
    "my_dict = {\"name\": \"Amad\", \"age\": 18, \"city\": \"Bekasi\"}\n",
    "\n",
    "for key in my_dict:\n",
    "    print(key, \"->\", my_dict[key])\n",
    "\n",
    "for key, value in my_dict.items():\n",
    "    print(key, \"->\", value)\n",
    "\n",
    "for key in my_dict.keys():\n",
    "    print(key, \"->\", my_dict[key])\n",
    "\n",
    "for value in my_dict.values():\n",
    "    print(value)\n",
    "\n"
   ]
  },
  {
   "cell_type": "code",
   "execution_count": null,
   "metadata": {},
   "outputs": [],
   "source": [
    "dict = {'Name': 'Zizu', 'Age': 7, 'Name': 'Justin'}\n",
    "print (\"dict['Name']: \", dict['Name'])\t\n"
   ]
  },
  {
   "cell_type": "code",
   "execution_count": null,
   "metadata": {},
   "outputs": [],
   "source": [
    "Days=set([\"Mon\",\"Tue\",\"Wed\",\"Thu\",\"Fri\",\"Sat\",\"Sun\"])\n",
    "Months={\"Jan\",\"Feb\",\"Mar\"}\n",
    "Dates={4,2,17}\n",
    "print(Days)\n",
    "print(Months)\n",
    "print(Dates)\n"
   ]
  },
  {
   "cell_type": "code",
   "execution_count": null,
   "metadata": {},
   "outputs": [],
   "source": [
    "Days=set([\"Mon\",\"Tue\",\"Wed\",\"Thu\",\"Fri\",\"Sat\",\"Sun\"])\n",
    " \n",
    "for d in Days:\n",
    "   print(d)\n"
   ]
  },
  {
   "cell_type": "code",
   "execution_count": null,
   "metadata": {},
   "outputs": [],
   "source": [
    "Days=set([\"Mon\",\"Tue\",\"Wed\",\"Thu\",\"Fri\",\"Sat\"])\n",
    " \n",
    "Days.add(\"Sun\")\n",
    "print(Days)\n"
   ]
  },
  {
   "cell_type": "code",
   "execution_count": null,
   "metadata": {},
   "outputs": [],
   "source": [
    "Days=set([\"Mon\",\"Tue\",\"Wed\",\"Thu\",\"Fri\",\"Sat\"])\n",
    " \n",
    "Days.discard(\"Sun\")\n",
    "print(Days)\n"
   ]
  },
  {
   "cell_type": "code",
   "execution_count": null,
   "metadata": {},
   "outputs": [],
   "source": [
    "DaysA = set([\"Mon\",\"Tue\",\"Wed\"])\n",
    "DaysB = set([\"Wed\",\"Thu\",\"Fri\",\"Sat\",\"Sun\"])\n",
    "print(DaysA|DaysB)\t\t\n",
    "print(DaysA & DaysB)\t\n",
    "print(DaysA - DaysB)\t"
   ]
  },
  {
   "cell_type": "code",
   "execution_count": null,
   "metadata": {},
   "outputs": [],
   "source": [
    "employee_list = [(12345, \"John\", \"Kitchen\"), (12458, \"Paul\", \"House Floor\")]\n",
    "\n",
    "def get_employee(id):\n",
    "    for employee in employee_list:\n",
    "        if employee[0] == id:\n",
    "            return {\"id\": employee[0], \"name\": employee[1], \"department\": employee[2]}\n",
    "\n",
    "print(get_employee(12458))\n"
   ]
  },
  {
   "cell_type": "code",
   "execution_count": 1,
   "metadata": {},
   "outputs": [
    {
     "name": "stdout",
     "output_type": "stream",
     "text": [
      "{'id': '12458', 'name': 'Paul', 'department': 'House Floor'}\n"
     ]
    }
   ],
   "source": [
    "employee_dict = {\n",
    "    12345: {\n",
    "        \"id\": \"12345\",\n",
    "        \"name\": \"John\", \n",
    "        \"department\": \"Kitchen\"    \n",
    "    },\n",
    "    12458: {\n",
    "        \"id\": \"12458\",\n",
    "        \"name\": \"Paul\", \n",
    "        \"department\": \"House Floor\"    \n",
    "    }\n",
    "}\n",
    "\n",
    "def get_employee_from_dict(id):\n",
    "    return employee_dict[id]\n",
    "\n",
    "\n",
    "print(get_employee_from_dict(12458))\n"
   ]
  },
  {
   "cell_type": "code",
   "execution_count": null,
   "metadata": {},
   "outputs": [],
   "source": []
  }
 ],
 "metadata": {
  "language_info": {
   "name": "python"
  }
 },
 "nbformat": 4,
 "nbformat_minor": 2
}
